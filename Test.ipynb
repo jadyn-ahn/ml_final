{
 "cells": [
  {
   "cell_type": "code",
   "execution_count": 1,
   "metadata": {},
   "outputs": [],
   "source": [
    "from loader import Loader"
   ]
  },
  {
   "cell_type": "code",
   "execution_count": 2,
   "metadata": {},
   "outputs": [],
   "source": [
    "tds = Loader.load_imgs(\"train\")"
   ]
  },
  {
   "cell_type": "code",
   "execution_count": 3,
   "metadata": {},
   "outputs": [
    {
     "data": {
      "text/plain": [
       "(20000, 64, 64, 3)"
      ]
     },
     "execution_count": 3,
     "metadata": {},
     "output_type": "execute_result"
    }
   ],
   "source": [
    "tds.shape"
   ]
  },
  {
   "cell_type": "code",
   "execution_count": 4,
   "metadata": {},
   "outputs": [],
   "source": [
    "vds = Loader.load_imgs(\"val\")"
   ]
  },
  {
   "cell_type": "code",
   "execution_count": 5,
   "metadata": {},
   "outputs": [
    {
     "data": {
      "text/plain": [
       "(10000, 64, 64, 3)"
      ]
     },
     "execution_count": 5,
     "metadata": {},
     "output_type": "execute_result"
    }
   ],
   "source": [
    "vds.shape"
   ]
  },
  {
   "cell_type": "code",
   "execution_count": 6,
   "metadata": {},
   "outputs": [],
   "source": [
    "from factory import ModelFactory"
   ]
  },
  {
   "cell_type": "code",
   "execution_count": 79,
   "metadata": {},
   "outputs": [],
   "source": [
    "enc_dec = ModelFactory.get_enc_dec()"
   ]
  },
  {
   "cell_type": "code",
   "execution_count": 41,
   "metadata": {},
   "outputs": [],
   "source": [
    "from helper import Helper"
   ]
  },
  {
   "cell_type": "code",
   "execution_count": 78,
   "metadata": {},
   "outputs": [
    {
     "name": "stdout",
     "output_type": "stream",
     "text": [
      "Train on 20000 samples, validate on 10000 samples\n",
      "Epoch 1/100\n",
      "19904/20000 [============================>.] - ETA: 0s - loss: 1.7022\n",
      "Epoch 00001: val_loss improved from inf to 1.45755, saving model to Model/tmp_enc_dec.h5\n",
      "20000/20000 [==============================] - 14s 679us/sample - loss: 1.6997 - val_loss: 1.4575\n",
      "Epoch 2/100\n",
      "19904/20000 [============================>.] - ETA: 0s - loss: 1.4062\n",
      "Epoch 00002: val_loss improved from 1.45755 to 1.42872, saving model to Model/tmp_enc_dec.h5\n",
      "20000/20000 [==============================] - 11s 566us/sample - loss: 1.4053 - val_loss: 1.4287\n",
      "Epoch 3/100\n",
      "19904/20000 [============================>.] - ETA: 0s - loss: 1.3984\n",
      "Epoch 00003: val_loss did not improve from 1.42872\n",
      "20000/20000 [==============================] - 11s 567us/sample - loss: 1.3972 - val_loss: 1.4289\n",
      "Epoch 4/100\n",
      "19904/20000 [============================>.] - ETA: 0s - loss: 1.4003\n",
      "Epoch 00004: val_loss did not improve from 1.42872\n",
      "20000/20000 [==============================] - 11s 564us/sample - loss: 1.3991 - val_loss: 1.4527\n",
      "Epoch 5/100\n",
      "19904/20000 [============================>.] - ETA: 0s - loss: 1.4045\n",
      "Epoch 00005: val_loss did not improve from 1.42872\n",
      "20000/20000 [==============================] - 11s 564us/sample - loss: 1.4036 - val_loss: 1.4524\n",
      "Epoch 6/100\n",
      "19904/20000 [============================>.] - ETA: 0s - loss: 1.4099\n",
      "Epoch 00006: val_loss did not improve from 1.42872\n",
      "20000/20000 [==============================] - 11s 560us/sample - loss: 1.4090 - val_loss: 1.4433\n",
      "Epoch 7/100\n",
      "19904/20000 [============================>.] - ETA: 0s - loss: 1.4158\n",
      "Epoch 00007: val_loss did not improve from 1.42872\n",
      "20000/20000 [==============================] - 11s 562us/sample - loss: 1.4144 - val_loss: 1.4601\n",
      "Epoch 8/100\n",
      "19904/20000 [============================>.] - ETA: 0s - loss: 1.4153\n",
      "Epoch 00008: val_loss did not improve from 1.42872\n",
      "20000/20000 [==============================] - 11s 562us/sample - loss: 1.4142 - val_loss: 1.4666\n",
      "Epoch 9/100\n",
      "19904/20000 [============================>.] - ETA: 0s - loss: 1.4174\n",
      "Epoch 00009: val_loss did not improve from 1.42872\n",
      "20000/20000 [==============================] - 11s 568us/sample - loss: 1.4162 - val_loss: 1.4540\n",
      "Epoch 10/100\n",
      "19904/20000 [============================>.] - ETA: 0s - loss: 1.4175\n",
      "Epoch 00010: val_loss did not improve from 1.42872\n",
      "20000/20000 [==============================] - 11s 563us/sample - loss: 1.4162 - val_loss: 1.4599\n",
      "Epoch 11/100\n",
      "19904/20000 [============================>.] - ETA: 0s - loss: 1.4334\n",
      "Epoch 00011: val_loss did not improve from 1.42872\n",
      "20000/20000 [==============================] - 11s 564us/sample - loss: 1.4322 - val_loss: 1.4587\n",
      "Epoch 12/100\n",
      "19904/20000 [============================>.] - ETA: 0s - loss: 1.4203\n",
      "Epoch 00012: val_loss did not improve from 1.42872\n",
      "20000/20000 [==============================] - 11s 561us/sample - loss: 1.4193 - val_loss: 1.4843\n",
      "Epoch 13/100\n",
      "19904/20000 [============================>.] - ETA: 0s - loss: 1.4222\n",
      "Epoch 00013: val_loss did not improve from 1.42872\n",
      "20000/20000 [==============================] - 11s 566us/sample - loss: 1.4209 - val_loss: 1.4464\n",
      "Epoch 14/100\n",
      "19904/20000 [============================>.] - ETA: 0s - loss: 1.4224\n",
      "Epoch 00014: val_loss did not improve from 1.42872\n",
      "20000/20000 [==============================] - 11s 566us/sample - loss: 1.4213 - val_loss: 1.4722\n",
      "Epoch 15/100\n",
      "19904/20000 [============================>.] - ETA: 0s - loss: 1.4169\n",
      "Epoch 00015: val_loss did not improve from 1.42872\n",
      "20000/20000 [==============================] - 11s 565us/sample - loss: 1.4158 - val_loss: 1.4406\n",
      "Epoch 16/100\n",
      "19904/20000 [============================>.] - ETA: 0s - loss: 1.4182\n",
      "Epoch 00016: val_loss did not improve from 1.42872\n",
      "20000/20000 [==============================] - 11s 564us/sample - loss: 1.4172 - val_loss: 1.4678\n",
      "Epoch 17/100\n",
      "19904/20000 [============================>.] - ETA: 0s - loss: 1.4250\n",
      "Epoch 00017: val_loss did not improve from 1.42872\n",
      "20000/20000 [==============================] - 11s 565us/sample - loss: 1.4237 - val_loss: 1.4669\n",
      "Epoch 18/100\n",
      "19904/20000 [============================>.] - ETA: 0s - loss: 1.4208\n",
      "Epoch 00018: val_loss did not improve from 1.42872\n",
      "20000/20000 [==============================] - 11s 561us/sample - loss: 1.4198 - val_loss: 1.4596\n",
      "Epoch 19/100\n",
      "19904/20000 [============================>.] - ETA: 0s - loss: 1.4175\n",
      "Epoch 00019: val_loss did not improve from 1.42872\n",
      "20000/20000 [==============================] - 11s 568us/sample - loss: 1.4165 - val_loss: 1.4874\n",
      "Epoch 20/100\n",
      "19904/20000 [============================>.] - ETA: 0s - loss: 1.4214\n",
      "Epoch 00020: val_loss did not improve from 1.42872\n",
      "20000/20000 [==============================] - 11s 569us/sample - loss: 1.4202 - val_loss: 1.4779\n",
      "Epoch 21/100\n",
      "19904/20000 [============================>.] - ETA: 0s - loss: 1.4214\n",
      "Epoch 00021: val_loss did not improve from 1.42872\n",
      "20000/20000 [==============================] - 11s 568us/sample - loss: 1.4203 - val_loss: 1.4878\n",
      "Epoch 22/100\n",
      "19904/20000 [============================>.] - ETA: 0s - loss: 1.4178\n",
      "Epoch 00022: val_loss did not improve from 1.42872\n",
      "20000/20000 [==============================] - 11s 560us/sample - loss: 1.4165 - val_loss: 1.4453\n",
      "Epoch 23/100\n",
      "19904/20000 [============================>.] - ETA: 0s - loss: 1.4176\n",
      "Epoch 00023: val_loss did not improve from 1.42872\n",
      "20000/20000 [==============================] - 11s 565us/sample - loss: 1.4165 - val_loss: 1.4808\n",
      "Epoch 24/100\n",
      "19904/20000 [============================>.] - ETA: 0s - loss: 1.4192\n",
      "Epoch 00024: val_loss did not improve from 1.42872\n",
      "20000/20000 [==============================] - 11s 560us/sample - loss: 1.4181 - val_loss: 1.4721\n",
      "Epoch 25/100\n",
      "19904/20000 [============================>.] - ETA: 0s - loss: 1.4137\n",
      "Epoch 00025: val_loss did not improve from 1.42872\n",
      "20000/20000 [==============================] - 11s 566us/sample - loss: 1.4127 - val_loss: 1.5142\n",
      "Epoch 26/100\n",
      "19904/20000 [============================>.] - ETA: 0s - loss: 1.4169\n",
      "Epoch 00026: val_loss did not improve from 1.42872\n",
      "20000/20000 [==============================] - 11s 562us/sample - loss: 1.4158 - val_loss: 1.4898\n",
      "Epoch 27/100\n",
      "19904/20000 [============================>.] - ETA: 0s - loss: 1.4229\n",
      "Epoch 00027: val_loss did not improve from 1.42872\n",
      "20000/20000 [==============================] - 11s 566us/sample - loss: 1.4217 - val_loss: 1.4344\n",
      "Epoch 28/100\n",
      "19904/20000 [============================>.] - ETA: 0s - loss: 1.4219\n",
      "Epoch 00028: val_loss did not improve from 1.42872\n",
      "20000/20000 [==============================] - 11s 570us/sample - loss: 1.4206 - val_loss: 1.4619\n",
      "Epoch 29/100\n",
      "19904/20000 [============================>.] - ETA: 0s - loss: 1.4121\n",
      "Epoch 00029: val_loss did not improve from 1.42872\n",
      "20000/20000 [==============================] - 11s 561us/sample - loss: 1.4110 - val_loss: 1.4342\n",
      "Epoch 30/100\n",
      "19904/20000 [============================>.] - ETA: 0s - loss: 1.4234\n",
      "Epoch 00030: val_loss did not improve from 1.42872\n",
      "20000/20000 [==============================] - 11s 559us/sample - loss: 1.4223 - val_loss: 1.4917\n",
      "Epoch 31/100\n",
      "19904/20000 [============================>.] - ETA: 0s - loss: 1.4162\n",
      "Epoch 00031: val_loss did not improve from 1.42872\n",
      "20000/20000 [==============================] - 11s 570us/sample - loss: 1.4150 - val_loss: 1.5021\n",
      "Epoch 32/100\n",
      "19904/20000 [============================>.] - ETA: 0s - loss: 1.4182\n",
      "Epoch 00032: val_loss did not improve from 1.42872\n",
      "20000/20000 [==============================] - 11s 567us/sample - loss: 1.4169 - val_loss: 1.4576\n",
      "Epoch 33/100\n",
      "19904/20000 [============================>.] - ETA: 0s - loss: 1.4179\n",
      "Epoch 00033: val_loss did not improve from 1.42872\n",
      "20000/20000 [==============================] - 11s 563us/sample - loss: 1.4168 - val_loss: 1.4587\n",
      "Epoch 34/100\n",
      "19904/20000 [============================>.] - ETA: 0s - loss: 1.4209\n",
      "Epoch 00034: val_loss did not improve from 1.42872\n",
      "20000/20000 [==============================] - 11s 561us/sample - loss: 1.4195 - val_loss: 1.4425\n",
      "Epoch 35/100\n",
      "19904/20000 [============================>.] - ETA: 0s - loss: 1.4108\n",
      "Epoch 00035: val_loss did not improve from 1.42872\n",
      "20000/20000 [==============================] - 11s 563us/sample - loss: 1.4097 - val_loss: 1.4413\n"
     ]
    },
    {
     "name": "stdout",
     "output_type": "stream",
     "text": [
      "Epoch 36/100\n",
      "19904/20000 [============================>.] - ETA: 0s - loss: 1.4285\n",
      "Epoch 00036: val_loss did not improve from 1.42872\n",
      "20000/20000 [==============================] - 11s 564us/sample - loss: 1.4273 - val_loss: 1.4430\n",
      "Epoch 37/100\n",
      "19904/20000 [============================>.] - ETA: 0s - loss: 1.4102\n",
      "Epoch 00037: val_loss did not improve from 1.42872\n",
      "20000/20000 [==============================] - 11s 567us/sample - loss: 1.4089 - val_loss: 1.4484\n",
      "Epoch 38/100\n",
      "19904/20000 [============================>.] - ETA: 0s - loss: 1.4179\n",
      "Epoch 00038: val_loss did not improve from 1.42872\n",
      "20000/20000 [==============================] - 11s 565us/sample - loss: 1.4167 - val_loss: 1.4764\n",
      "Epoch 39/100\n",
      "19904/20000 [============================>.] - ETA: 0s - loss: 1.4109\n",
      "Epoch 00039: val_loss did not improve from 1.42872\n",
      "20000/20000 [==============================] - 11s 566us/sample - loss: 1.4099 - val_loss: 1.4498\n",
      "Epoch 40/100\n",
      "19904/20000 [============================>.] - ETA: 0s - loss: 1.4168\n",
      "Epoch 00040: val_loss did not improve from 1.42872\n",
      "20000/20000 [==============================] - 11s 565us/sample - loss: 1.4156 - val_loss: 1.4935\n",
      "Epoch 41/100\n",
      "19904/20000 [============================>.] - ETA: 0s - loss: 1.4140\n",
      "Epoch 00041: val_loss did not improve from 1.42872\n",
      "20000/20000 [==============================] - 11s 565us/sample - loss: 1.4131 - val_loss: 1.4860\n",
      "Epoch 42/100\n",
      "19904/20000 [============================>.] - ETA: 0s - loss: 1.4154\n",
      "Epoch 00042: val_loss did not improve from 1.42872\n",
      "20000/20000 [==============================] - 11s 564us/sample - loss: 1.4144 - val_loss: 1.5075\n",
      "Epoch 43/100\n",
      "19904/20000 [============================>.] - ETA: 0s - loss: 1.4237\n",
      "Epoch 00043: val_loss did not improve from 1.42872\n",
      "20000/20000 [==============================] - 11s 561us/sample - loss: 1.4224 - val_loss: 1.4404\n",
      "Epoch 44/100\n",
      "19904/20000 [============================>.] - ETA: 0s - loss: 1.4199\n",
      "Epoch 00044: val_loss did not improve from 1.42872\n",
      "20000/20000 [==============================] - 11s 567us/sample - loss: 1.4187 - val_loss: 1.5407\n",
      "Epoch 45/100\n",
      "19904/20000 [============================>.] - ETA: 0s - loss: 1.4221\n",
      "Epoch 00045: val_loss did not improve from 1.42872\n",
      "20000/20000 [==============================] - 11s 564us/sample - loss: 1.4211 - val_loss: 1.4534\n",
      "Epoch 46/100\n",
      "19904/20000 [============================>.] - ETA: 0s - loss: 1.4118\n",
      "Epoch 00046: val_loss did not improve from 1.42872\n",
      "20000/20000 [==============================] - 11s 567us/sample - loss: 1.4105 - val_loss: 1.4410\n",
      "Epoch 47/100\n",
      "19904/20000 [============================>.] - ETA: 0s - loss: 1.4128\n",
      "Epoch 00047: val_loss did not improve from 1.42872\n",
      "20000/20000 [==============================] - 11s 566us/sample - loss: 1.4118 - val_loss: 1.4970\n",
      "Epoch 48/100\n",
      "19904/20000 [============================>.] - ETA: 0s - loss: 1.4102\n",
      "Epoch 00048: val_loss did not improve from 1.42872\n",
      "20000/20000 [==============================] - 11s 567us/sample - loss: 1.4092 - val_loss: 1.5420\n",
      "Epoch 49/100\n",
      "19904/20000 [============================>.] - ETA: 0s - loss: 1.4177\n",
      "Epoch 00049: val_loss did not improve from 1.42872\n",
      "20000/20000 [==============================] - 11s 566us/sample - loss: 1.4166 - val_loss: 1.4384\n",
      "Epoch 50/100\n",
      "19904/20000 [============================>.] - ETA: 0s - loss: 1.4212\n",
      "Epoch 00050: val_loss did not improve from 1.42872\n",
      "20000/20000 [==============================] - 11s 566us/sample - loss: 1.4199 - val_loss: 1.4740\n",
      "Epoch 51/100\n",
      " 8512/20000 [===========>..................] - ETA: 5s - loss: 1.4168"
     ]
    },
    {
     "ename": "KeyboardInterrupt",
     "evalue": "",
     "output_type": "error",
     "traceback": [
      "\u001b[0;31m---------------------------------------------------------------------------\u001b[0m",
      "\u001b[0;31mKeyboardInterrupt\u001b[0m                         Traceback (most recent call last)",
      "\u001b[0;32m<ipython-input-78-ab614f26694a>\u001b[0m in \u001b[0;36m<module>\u001b[0;34m()\u001b[0m\n\u001b[0;32m----> 1\u001b[0;31m \u001b[0mHelper\u001b[0m\u001b[0;34m.\u001b[0m\u001b[0mtrain_enc_dec\u001b[0m\u001b[0;34m(\u001b[0m\u001b[0menc_dec\u001b[0m\u001b[0;34m,\u001b[0m \u001b[0;34m(\u001b[0m\u001b[0mtds\u001b[0m\u001b[0;34m,\u001b[0m \u001b[0mtds\u001b[0m\u001b[0;34m)\u001b[0m\u001b[0;34m,\u001b[0m \u001b[0;34m(\u001b[0m\u001b[0mvds\u001b[0m\u001b[0;34m,\u001b[0m \u001b[0mvds\u001b[0m\u001b[0;34m)\u001b[0m\u001b[0;34m,\u001b[0m \u001b[0;36m64\u001b[0m\u001b[0;34m,\u001b[0m \u001b[0;36m100\u001b[0m\u001b[0;34m,\u001b[0m \u001b[0;36m0.01\u001b[0m\u001b[0;34m,\u001b[0m \u001b[0;36m0.0\u001b[0m\u001b[0;34m)\u001b[0m\u001b[0;34m\u001b[0m\u001b[0m\n\u001b[0m",
      "\u001b[0;32m~/ml_project/ml_final/helper.py\u001b[0m in \u001b[0;36mtrain_enc_dec\u001b[0;34m(model, train_data, val_data, batch_size, epochs, lr, decay, loss)\u001b[0m\n\u001b[1;32m     23\u001b[0m                   \u001b[0mbatch_size\u001b[0m\u001b[0;34m=\u001b[0m\u001b[0mbatch_size\u001b[0m\u001b[0;34m,\u001b[0m\u001b[0;34m\u001b[0m\u001b[0m\n\u001b[1;32m     24\u001b[0m                   \u001b[0mepochs\u001b[0m\u001b[0;34m=\u001b[0m\u001b[0mepochs\u001b[0m\u001b[0;34m,\u001b[0m\u001b[0;34m\u001b[0m\u001b[0m\n\u001b[0;32m---> 25\u001b[0;31m                   \u001b[0mvalidation_data\u001b[0m\u001b[0;34m=\u001b[0m\u001b[0mval_data\u001b[0m\u001b[0;34m,\u001b[0m\u001b[0;34m\u001b[0m\u001b[0m\n\u001b[0m\u001b[1;32m     26\u001b[0m                   \u001b[0mcallbacks\u001b[0m\u001b[0;34m=\u001b[0m\u001b[0;34m[\u001b[0m\u001b[0mcheckpoint\u001b[0m\u001b[0;34m]\u001b[0m\u001b[0;34m,\u001b[0m\u001b[0;34m\u001b[0m\u001b[0m\n\u001b[1;32m     27\u001b[0m                   verbose=1)\n",
      "\u001b[0;32m~/anaconda3/envs/tensorflow_p36/lib/python3.6/site-packages/tensorflow/python/keras/engine/training.py\u001b[0m in \u001b[0;36mfit\u001b[0;34m(self, x, y, batch_size, epochs, verbose, callbacks, validation_split, validation_data, shuffle, class_weight, sample_weight, initial_epoch, steps_per_epoch, validation_steps, max_queue_size, workers, use_multiprocessing, **kwargs)\u001b[0m\n\u001b[1;32m    878\u001b[0m           \u001b[0minitial_epoch\u001b[0m\u001b[0;34m=\u001b[0m\u001b[0minitial_epoch\u001b[0m\u001b[0;34m,\u001b[0m\u001b[0;34m\u001b[0m\u001b[0m\n\u001b[1;32m    879\u001b[0m           \u001b[0msteps_per_epoch\u001b[0m\u001b[0;34m=\u001b[0m\u001b[0msteps_per_epoch\u001b[0m\u001b[0;34m,\u001b[0m\u001b[0;34m\u001b[0m\u001b[0m\n\u001b[0;32m--> 880\u001b[0;31m           validation_steps=validation_steps)\n\u001b[0m\u001b[1;32m    881\u001b[0m \u001b[0;34m\u001b[0m\u001b[0m\n\u001b[1;32m    882\u001b[0m   def evaluate(self,\n",
      "\u001b[0;32m~/anaconda3/envs/tensorflow_p36/lib/python3.6/site-packages/tensorflow/python/keras/engine/training_arrays.py\u001b[0m in \u001b[0;36mmodel_iteration\u001b[0;34m(model, inputs, targets, sample_weights, batch_size, epochs, verbose, callbacks, val_inputs, val_targets, val_sample_weights, shuffle, initial_epoch, steps_per_epoch, validation_steps, mode, validation_in_fit, **kwargs)\u001b[0m\n\u001b[1;32m    327\u001b[0m \u001b[0;34m\u001b[0m\u001b[0m\n\u001b[1;32m    328\u001b[0m         \u001b[0;31m# Get outputs.\u001b[0m\u001b[0;34m\u001b[0m\u001b[0;34m\u001b[0m\u001b[0m\n\u001b[0;32m--> 329\u001b[0;31m         \u001b[0mbatch_outs\u001b[0m \u001b[0;34m=\u001b[0m \u001b[0mf\u001b[0m\u001b[0;34m(\u001b[0m\u001b[0mins_batch\u001b[0m\u001b[0;34m)\u001b[0m\u001b[0;34m\u001b[0m\u001b[0m\n\u001b[0m\u001b[1;32m    330\u001b[0m         \u001b[0;32mif\u001b[0m \u001b[0;32mnot\u001b[0m \u001b[0misinstance\u001b[0m\u001b[0;34m(\u001b[0m\u001b[0mbatch_outs\u001b[0m\u001b[0;34m,\u001b[0m \u001b[0mlist\u001b[0m\u001b[0;34m)\u001b[0m\u001b[0;34m:\u001b[0m\u001b[0;34m\u001b[0m\u001b[0m\n\u001b[1;32m    331\u001b[0m           \u001b[0mbatch_outs\u001b[0m \u001b[0;34m=\u001b[0m \u001b[0;34m[\u001b[0m\u001b[0mbatch_outs\u001b[0m\u001b[0;34m]\u001b[0m\u001b[0;34m\u001b[0m\u001b[0m\n",
      "\u001b[0;32m~/anaconda3/envs/tensorflow_p36/lib/python3.6/site-packages/tensorflow/python/keras/backend.py\u001b[0m in \u001b[0;36m__call__\u001b[0;34m(self, inputs)\u001b[0m\n\u001b[1;32m   3074\u001b[0m \u001b[0;34m\u001b[0m\u001b[0m\n\u001b[1;32m   3075\u001b[0m     fetched = self._callable_fn(*array_vals,\n\u001b[0;32m-> 3076\u001b[0;31m                                 run_metadata=self.run_metadata)\n\u001b[0m\u001b[1;32m   3077\u001b[0m     \u001b[0mself\u001b[0m\u001b[0;34m.\u001b[0m\u001b[0m_call_fetch_callbacks\u001b[0m\u001b[0;34m(\u001b[0m\u001b[0mfetched\u001b[0m\u001b[0;34m[\u001b[0m\u001b[0;34m-\u001b[0m\u001b[0mlen\u001b[0m\u001b[0;34m(\u001b[0m\u001b[0mself\u001b[0m\u001b[0;34m.\u001b[0m\u001b[0m_fetches\u001b[0m\u001b[0;34m)\u001b[0m\u001b[0;34m:\u001b[0m\u001b[0;34m]\u001b[0m\u001b[0;34m)\u001b[0m\u001b[0;34m\u001b[0m\u001b[0m\n\u001b[1;32m   3078\u001b[0m     return nest.pack_sequence_as(self._outputs_structure,\n",
      "\u001b[0;32m~/anaconda3/envs/tensorflow_p36/lib/python3.6/site-packages/tensorflow/python/client/session.py\u001b[0m in \u001b[0;36m__call__\u001b[0;34m(self, *args, **kwargs)\u001b[0m\n\u001b[1;32m   1437\u001b[0m           ret = tf_session.TF_SessionRunCallable(\n\u001b[1;32m   1438\u001b[0m               \u001b[0mself\u001b[0m\u001b[0;34m.\u001b[0m\u001b[0m_session\u001b[0m\u001b[0;34m.\u001b[0m\u001b[0m_session\u001b[0m\u001b[0;34m,\u001b[0m \u001b[0mself\u001b[0m\u001b[0;34m.\u001b[0m\u001b[0m_handle\u001b[0m\u001b[0;34m,\u001b[0m \u001b[0margs\u001b[0m\u001b[0;34m,\u001b[0m \u001b[0mstatus\u001b[0m\u001b[0;34m,\u001b[0m\u001b[0;34m\u001b[0m\u001b[0m\n\u001b[0;32m-> 1439\u001b[0;31m               run_metadata_ptr)\n\u001b[0m\u001b[1;32m   1440\u001b[0m         \u001b[0;32mif\u001b[0m \u001b[0mrun_metadata\u001b[0m\u001b[0;34m:\u001b[0m\u001b[0;34m\u001b[0m\u001b[0m\n\u001b[1;32m   1441\u001b[0m           \u001b[0mproto_data\u001b[0m \u001b[0;34m=\u001b[0m \u001b[0mtf_session\u001b[0m\u001b[0;34m.\u001b[0m\u001b[0mTF_GetBuffer\u001b[0m\u001b[0;34m(\u001b[0m\u001b[0mrun_metadata_ptr\u001b[0m\u001b[0;34m)\u001b[0m\u001b[0;34m\u001b[0m\u001b[0m\n",
      "\u001b[0;31mKeyboardInterrupt\u001b[0m: "
     ]
    }
   ],
   "source": [
    "Helper.train_enc_dec(enc_dec, (tds, tds), (vds, vds), 64, 100, 0.01, 0.0)"
   ]
  },
  {
   "cell_type": "code",
   "execution_count": 11,
   "metadata": {},
   "outputs": [],
   "source": [
    "from data_utils import get_val_batch, get_test_batch\n",
    "import numpy as np"
   ]
  },
  {
   "cell_type": "code",
   "execution_count": 43,
   "metadata": {},
   "outputs": [],
   "source": [
    "test_batch = get_test_batch(0, 1)\n",
    "test_imgs = np.asarray([test_batch[0, 0], test_batch[0, 1], test_batch[0, 6]])"
   ]
  },
  {
   "cell_type": "code",
   "execution_count": 44,
   "metadata": {},
   "outputs": [],
   "source": [
    "test_predicted = enc_dec.predict(test_imgs)"
   ]
  },
  {
   "cell_type": "code",
   "execution_count": 45,
   "metadata": {},
   "outputs": [],
   "source": [
    "train_imgs = np.asarray([tds[0], tds[10], tds[20]])"
   ]
  },
  {
   "cell_type": "code",
   "execution_count": 46,
   "metadata": {},
   "outputs": [],
   "source": [
    "predicted = enc_dec.predict(train_imgs)"
   ]
  },
  {
   "cell_type": "code",
   "execution_count": 47,
   "metadata": {},
   "outputs": [],
   "source": [
    "import matplotlib.pyplot as plt\n",
    "%matplotlib inline\n",
    "\n",
    "def show_three(imgs, predicted):\n",
    "    for i in range(3):\n",
    "        plt.subplot(2, 3, i+1)\n",
    "        plt.imshow(imgs[i])\n",
    "        plt.subplot(2, 3, i+4)\n",
    "        plt.imshow(predicted[i])"
   ]
  },
  {
   "cell_type": "code",
   "execution_count": 48,
   "metadata": {},
   "outputs": [
    {
     "data": {
      "image/png": "[encoded data removed]",
      "text/plain": [
       "<Figure size 432x288 with 6 Axes>"
      ]
     },
     "metadata": {},
     "output_type": "display_data"
    }
   ],
   "source": [
    "show_three(train_imgs, predicted)"
   ]
  },
  {
   "cell_type": "code",
   "execution_count": 49,
   "metadata": {},
   "outputs": [
    {
     "data": {
      "image/png": "[encoded data removed]",
      "text/plain": [
       "<Figure size 432x288 with 6 Axes>"
      ]
     },
     "metadata": {},
     "output_type": "display_data"
    }
   ],
   "source": [
    "show_three(test_imgs, test_predicted)"
   ]
  },
  {
   "cell_type": "code",
   "execution_count": 55,
   "metadata": {},
   "outputs": [],
   "source": [
    "from sklearn.metrics import mean_absolute_error\n",
    "\n",
    "def check_mae(imgs, predicteds):\n",
    "    maes = np.zeros(imgs.shape[0] * imgs.shape[3], dtype=np.float32)\n",
    "    for i in range(imgs.shape[0]):\n",
    "        for j in range(imgs.shape[3]):\n",
    "            maes[i * 3 + j] = mean_absolute_error(imgs[i, :, :, j], predicteds[i, :, :, j])\n",
    "    return np.average(maes[np.nonzero(maes)])"
   ]
  },
  {
   "cell_type": "code",
   "execution_count": 56,
   "metadata": {},
   "outputs": [
    {
     "data": {
      "text/plain": [
       "0.010981237"
      ]
     },
     "execution_count": 56,
     "metadata": {},
     "output_type": "execute_result"
    }
   ],
   "source": [
    "check_mae(train_imgs, predicted)"
   ]
  },
  {
   "cell_type": "code",
   "execution_count": 57,
   "metadata": {},
   "outputs": [
    {
     "data": {
      "text/plain": [
       "0.009514365"
      ]
     },
     "execution_count": 57,
     "metadata": {},
     "output_type": "execute_result"
    }
   ],
   "source": [
    "check_mae(test_imgs, test_predicted)"
   ]
  },
  {
   "cell_type": "code",
   "execution_count": 59,
   "metadata": {},
   "outputs": [
    {
     "data": {
      "text/plain": [
       "<tensorflow.python.keras.engine.training.Model at 0x7f0468171c88>"
      ]
     },
     "execution_count": 59,
     "metadata": {},
     "output_type": "execute_result"
    }
   ],
   "source": [
    "enc_dec"
   ]
  },
  {
   "cell_type": "code",
   "execution_count": null,
   "metadata": {},
   "outputs": [],
   "source": [
    "Helper.save_enc_dec(enc_dec, \"0617_\")"
   ]
  },
  {
   "cell_type": "code",
   "execution_count": 62,
   "metadata": {},
   "outputs": [],
   "source": [
    "import datetime"
   ]
  },
  {
   "cell_type": "code",
   "execution_count": 64,
   "metadata": {},
   "outputs": [
    {
     "data": {
      "text/plain": [
       "datetime.datetime(2019, 6, 16, 17, 38, 40, 392913)"
      ]
     },
     "execution_count": 64,
     "metadata": {},
     "output_type": "execute_result"
    }
   ],
   "source": [
    "datetime.datetime.now()"
   ]
  },
  {
   "cell_type": "code",
   "execution_count": 76,
   "metadata": {},
   "outputs": [
    {
     "data": {
      "text/plain": [
       "'06161741'"
      ]
     },
     "execution_count": 76,
     "metadata": {},
     "output_type": "execute_result"
    }
   ],
   "source": [
    "\"%M%D_%H%M\".format(datetime.datetime.now())\n",
    "datetime.datetime.now().strftime(\"%m%d%H%M\")"
   ]
  },
  {
   "cell_type": "code",
   "execution_count": 66,
   "metadata": {},
   "outputs": [
    {
     "data": {
      "text/plain": [
       "time.struct_time(tm_year=2019, tm_mon=6, tm_mday=16, tm_hour=17, tm_min=39, tm_sec=5, tm_wday=6, tm_yday=167, tm_isdst=0)"
      ]
     },
     "execution_count": 66,
     "metadata": {},
     "output_type": "execute_result"
    }
   ],
   "source": [
    "gmtime()"
   ]
  },
  {
   "cell_type": "code",
   "execution_count": 77,
   "metadata": {},
   "outputs": [
    {
     "data": {
      "text/plain": [
       "'06161742'"
      ]
     },
     "execution_count": 77,
     "metadata": {},
     "output_type": "execute_result"
    }
   ],
   "source": [
    "\"{:%m%d%H%M}\".format(datetime.datetime.now())"
   ]
  },
  {
   "cell_type": "code",
   "execution_count": null,
   "metadata": {},
   "outputs": [],
   "source": []
  }
 ],
 "metadata": {
  "kernelspec": {
   "display_name": "Python 3",
   "language": "python",
   "name": "python3"
  },
  "language_info": {
   "codemirror_mode": {
    "name": "ipython",
    "version": 3
   },
   "file_extension": ".py",
   "mimetype": "text/x-python",
   "name": "python",
   "nbconvert_exporter": "python",
   "pygments_lexer": "ipython3",
   "version": "3.6.5"
  }
 },
 "nbformat": 4,
 "nbformat_minor": 2
}
