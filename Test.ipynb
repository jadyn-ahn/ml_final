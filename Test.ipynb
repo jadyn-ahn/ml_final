{
 "cells": [
  {
   "cell_type": "code",
   "execution_count": 1,
   "metadata": {},
   "outputs": [],
   "source": [
    "from loader import Loader"
   ]
  },
  {
   "cell_type": "code",
   "execution_count": 2,
   "metadata": {},
   "outputs": [],
   "source": [
    "tds = Loader.load_imgs(\"train\")"
   ]
  },
  {
   "cell_type": "code",
   "execution_count": 3,
   "metadata": {},
   "outputs": [
    {
     "data": {
      "text/plain": [
       "(20000, 64, 64, 3)"
      ]
     },
     "execution_count": 3,
     "metadata": {},
     "output_type": "execute_result"
    }
   ],
   "source": [
    "tds.shape"
   ]
  },
  {
   "cell_type": "code",
   "execution_count": 4,
   "metadata": {},
   "outputs": [],
   "source": [
    "vds = Loader.load_imgs(\"val\")"
   ]
  },
  {
   "cell_type": "code",
   "execution_count": 5,
   "metadata": {},
   "outputs": [
    {
     "data": {
      "text/plain": [
       "(10000, 64, 64, 3)"
      ]
     },
     "execution_count": 5,
     "metadata": {},
     "output_type": "execute_result"
    }
   ],
   "source": [
    "vds.shape"
   ]
  },
  {
   "cell_type": "code",
   "execution_count": 6,
   "metadata": {},
   "outputs": [],
   "source": [
    "from factory import ModelFactory"
   ]
  },
  {
   "cell_type": "code",
   "execution_count": 40,
   "metadata": {},
   "outputs": [],
   "source": [
    "enc_dec = ModelFactory.get_enc_dec()"
   ]
  },
  {
   "cell_type": "code",
   "execution_count": 41,
   "metadata": {},
   "outputs": [],
   "source": [
    "from helper import Helper"
   ]
  },
  {
   "cell_type": "code",
   "execution_count": null,
   "metadata": {},
   "outputs": [
    {
     "name": "stdout",
     "output_type": "stream",
     "text": [
      "Train on 20000 samples, validate on 10000 samples\n",
      "Epoch 1/100\n",
      "19904/20000 [============================>.] - ETA: 0s - loss: 3.7471\n",
      "Epoch 00001: val_loss improved from inf to 2.57713, saving model to Model/tmp_enc_dec.h5\n",
      "20000/20000 [==============================] - 13s 672us/sample - loss: 3.7391 - val_loss: 2.5771\n",
      "Epoch 2/100\n",
      "19904/20000 [============================>.] - ETA: 0s - loss: 2.1994\n",
      "Epoch 00002: val_loss improved from 2.57713 to 2.09370, saving model to Model/tmp_enc_dec.h5\n",
      "20000/20000 [==============================] - 12s 582us/sample - loss: 2.1972 - val_loss: 2.0937\n",
      "Epoch 3/100\n",
      "19904/20000 [============================>.] - ETA: 0s - loss: 1.9872\n",
      "Epoch 00003: val_loss improved from 2.09370 to 1.95316, saving model to Model/tmp_enc_dec.h5\n",
      "20000/20000 [==============================] - 12s 579us/sample - loss: 1.9853 - val_loss: 1.9532\n",
      "Epoch 4/100\n",
      "19904/20000 [============================>.] - ETA: 0s - loss: 1.8706\n",
      "Epoch 00004: val_loss improved from 1.95316 to 1.85150, saving model to Model/tmp_enc_dec.h5\n",
      "20000/20000 [==============================] - 12s 575us/sample - loss: 1.8692 - val_loss: 1.8515\n",
      "Epoch 5/100\n",
      "19904/20000 [============================>.] - ETA: 0s - loss: 1.8101\n",
      "Epoch 00005: val_loss improved from 1.85150 to 1.80084, saving model to Model/tmp_enc_dec.h5\n",
      "20000/20000 [==============================] - 12s 575us/sample - loss: 1.8085 - val_loss: 1.8008\n",
      "Epoch 6/100\n",
      "19904/20000 [============================>.] - ETA: 0s - loss: 1.7729\n",
      "Epoch 00006: val_loss did not improve from 1.80084\n",
      "20000/20000 [==============================] - 11s 566us/sample - loss: 1.7716 - val_loss: 1.8534\n",
      "Epoch 7/100\n",
      "19904/20000 [============================>.] - ETA: 0s - loss: 1.7490\n",
      "Epoch 00007: val_loss improved from 1.80084 to 1.75909, saving model to Model/tmp_enc_dec.h5\n",
      "20000/20000 [==============================] - 11s 565us/sample - loss: 1.7475 - val_loss: 1.7591\n",
      "Epoch 8/100\n",
      "19904/20000 [============================>.] - ETA: 0s - loss: 1.7283\n",
      "Epoch 00008: val_loss improved from 1.75909 to 1.74346, saving model to Model/tmp_enc_dec.h5\n",
      "20000/20000 [==============================] - 11s 568us/sample - loss: 1.7269 - val_loss: 1.7435\n",
      "Epoch 9/100\n",
      "19904/20000 [============================>.] - ETA: 0s - loss: 1.7127\n",
      "Epoch 00009: val_loss did not improve from 1.74346\n",
      "20000/20000 [==============================] - 11s 560us/sample - loss: 1.7114 - val_loss: 1.7468\n",
      "Epoch 10/100\n",
      "19904/20000 [============================>.] - ETA: 0s - loss: 1.6974\n",
      "Epoch 00010: val_loss did not improve from 1.74346\n",
      "20000/20000 [==============================] - 11s 565us/sample - loss: 1.6960 - val_loss: 1.7541\n",
      "Epoch 11/100\n",
      "19904/20000 [============================>.] - ETA: 0s - loss: 1.6912\n",
      "Epoch 00011: val_loss improved from 1.74346 to 1.71481, saving model to Model/tmp_enc_dec.h5\n",
      "20000/20000 [==============================] - 11s 566us/sample - loss: 1.6899 - val_loss: 1.7148\n",
      "Epoch 12/100\n",
      "19904/20000 [============================>.] - ETA: 0s - loss: 1.6828\n",
      "Epoch 00012: val_loss did not improve from 1.71481\n",
      "20000/20000 [==============================] - 11s 561us/sample - loss: 1.6812 - val_loss: 1.7276\n",
      "Epoch 13/100\n",
      "19904/20000 [============================>.] - ETA: 0s - loss: 1.6694\n",
      "Epoch 00013: val_loss improved from 1.71481 to 1.70566, saving model to Model/tmp_enc_dec.h5\n",
      "20000/20000 [==============================] - 11s 567us/sample - loss: 1.6681 - val_loss: 1.7057\n",
      "Epoch 14/100\n",
      "19904/20000 [============================>.] - ETA: 0s - loss: 1.6587\n",
      "Epoch 00014: val_loss did not improve from 1.70566\n",
      "20000/20000 [==============================] - 11s 568us/sample - loss: 1.6576 - val_loss: 1.7206\n",
      "Epoch 15/100\n",
      "19904/20000 [============================>.] - ETA: 0s - loss: 1.6447\n",
      "Epoch 00015: val_loss improved from 1.70566 to 1.69884, saving model to Model/tmp_enc_dec.h5\n",
      "20000/20000 [==============================] - 11s 563us/sample - loss: 1.6437 - val_loss: 1.6988\n",
      "Epoch 16/100\n",
      "19904/20000 [============================>.] - ETA: 0s - loss: 1.6261\n",
      "Epoch 00016: val_loss improved from 1.69884 to 1.66098, saving model to Model/tmp_enc_dec.h5\n",
      "20000/20000 [==============================] - 11s 573us/sample - loss: 1.6246 - val_loss: 1.6610\n",
      "Epoch 17/100\n",
      "19904/20000 [============================>.] - ETA: 0s - loss: 1.6039\n",
      "Epoch 00017: val_loss improved from 1.66098 to 1.61908, saving model to Model/tmp_enc_dec.h5\n",
      "20000/20000 [==============================] - 11s 565us/sample - loss: 1.6025 - val_loss: 1.6191\n",
      "Epoch 18/100\n",
      "19904/20000 [============================>.] - ETA: 0s - loss: 1.5850\n",
      "Epoch 00018: val_loss did not improve from 1.61908\n",
      "20000/20000 [==============================] - 11s 561us/sample - loss: 1.5840 - val_loss: 1.6593\n",
      "Epoch 19/100\n",
      "19904/20000 [============================>.] - ETA: 0s - loss: 1.5732\n",
      "Epoch 00019: val_loss improved from 1.61908 to 1.58634, saving model to Model/tmp_enc_dec.h5\n",
      "20000/20000 [==============================] - 11s 570us/sample - loss: 1.5719 - val_loss: 1.5863\n",
      "Epoch 20/100\n",
      "19904/20000 [============================>.] - ETA: 0s - loss: 1.5659\n",
      "Epoch 00020: val_loss did not improve from 1.58634\n",
      "20000/20000 [==============================] - 11s 562us/sample - loss: 1.5645 - val_loss: 1.6091\n",
      "Epoch 21/100\n",
      "19904/20000 [============================>.] - ETA: 0s - loss: 1.5564\n",
      "Epoch 00021: val_loss did not improve from 1.58634\n",
      "20000/20000 [==============================] - 11s 567us/sample - loss: 1.5551 - val_loss: 1.5905\n",
      "Epoch 22/100\n",
      "19904/20000 [============================>.] - ETA: 0s - loss: 1.5534\n",
      "Epoch 00022: val_loss improved from 1.58634 to 1.56667, saving model to Model/tmp_enc_dec.h5\n",
      "20000/20000 [==============================] - 11s 572us/sample - loss: 1.5522 - val_loss: 1.5667\n",
      "Epoch 23/100\n",
      "19904/20000 [============================>.] - ETA: 0s - loss: 1.5399\n",
      "Epoch 00023: val_loss did not improve from 1.56667\n",
      "20000/20000 [==============================] - 11s 565us/sample - loss: 1.5387 - val_loss: 1.5745\n",
      "Epoch 24/100\n",
      "19904/20000 [============================>.] - ETA: 0s - loss: 1.5317\n",
      "Epoch 00024: val_loss improved from 1.56667 to 1.55339, saving model to Model/tmp_enc_dec.h5\n",
      "20000/20000 [==============================] - 11s 572us/sample - loss: 1.5307 - val_loss: 1.5534\n",
      "Epoch 25/100\n",
      "11712/20000 [================>.............] - ETA: 3s - loss: 1.5305"
     ]
    }
   ],
   "source": [
    "Helper.train_enc_dec(enc_dec, (tds, tds), (vds, vds), 64, 100, 0.01, 0.0)"
   ]
  },
  {
   "cell_type": "code",
   "execution_count": 11,
   "metadata": {},
   "outputs": [],
   "source": [
    "from data_utils import get_val_batch, get_test_batch\n",
    "import numpy as np"
   ]
  },
  {
   "cell_type": "code",
   "execution_count": 23,
   "metadata": {},
   "outputs": [],
   "source": [
    "test_batch = get_test_batch(0, 1)\n",
    "test_imgs = np.asarray([test_batch[0, 0], test_batch[0, 1], test_batch[0, 6]])"
   ]
  },
  {
   "cell_type": "code",
   "execution_count": 24,
   "metadata": {},
   "outputs": [],
   "source": [
    "test_predicted = enc_dec.predict(test_imgs)"
   ]
  },
  {
   "cell_type": "code",
   "execution_count": 25,
   "metadata": {},
   "outputs": [],
   "source": [
    "train_imgs = np.asarray([tds[0], tds[10], tds[20]])"
   ]
  },
  {
   "cell_type": "code",
   "execution_count": 26,
   "metadata": {},
   "outputs": [],
   "source": [
    "predicted = enc_dec.predict(train_imgs)"
   ]
  },
  {
   "cell_type": "code",
   "execution_count": 27,
   "metadata": {},
   "outputs": [],
   "source": [
    "import matplotlib.pyplot as plt\n",
    "%matplotlib inline\n",
    "\n",
    "def show_three(imgs, predicted):\n",
    "    for i in range(3):\n",
    "        plt.subplot(2, 3, i+1)\n",
    "        plt.imshow(imgs[i])\n",
    "        plt.subplot(2, 3, i+4)\n",
    "        plt.imshow(predicted[i])"
   ]
  },
  {
   "cell_type": "code",
   "execution_count": 28,
   "metadata": {},
   "outputs": [
    {
     "data": {
      "image/png": "[encoded data removed]",
      "text/plain": [
       "<Figure size 432x288 with 6 Axes>"
      ]
     },
     "metadata": {},
     "output_type": "display_data"
    }
   ],
   "source": [
    "show_three(train_imgs, predicted)"
   ]
  },
  {
   "cell_type": "code",
   "execution_count": 29,
   "metadata": {},
   "outputs": [
    {
     "data": {
      "image/png": "[encoded data removed]",
      "text/plain": [
       "<Figure size 432x288 with 6 Axes>"
      ]
     },
     "metadata": {},
     "output_type": "display_data"
    }
   ],
   "source": [
    "show_three(test_imgs, test_predicted)"
   ]
  },
  {
   "cell_type": "code",
   "execution_count": 31,
   "metadata": {},
   "outputs": [],
   "source": [
    "from sklearn.metrics import mean_absolute_error\n",
    "\n",
    "def check_mae(imgs, predicteds):\n",
    "    maes = np.zeros(imgs.shape[0] * imgs.shape[3], dtype=np.float32)\n",
    "    for i in range(imgs.shape[0]):\n",
    "        for j in range(imgs.shape[3]):\n",
    "            maes[i * 3 + j] = mean_absolute_error(imgs[i, :, :, j], predicteds[i, :, :, j])\n",
    "    return np.average(maes)"
   ]
  },
  {
   "cell_type": "code",
   "execution_count": 33,
   "metadata": {},
   "outputs": [
    {
     "data": {
      "text/plain": [
       "0.019995278"
      ]
     },
     "execution_count": 33,
     "metadata": {},
     "output_type": "execute_result"
    }
   ],
   "source": [
    "check_mae(train_imgs, predicted)"
   ]
  },
  {
   "cell_type": "code",
   "execution_count": 34,
   "metadata": {},
   "outputs": [
    {
     "data": {
      "text/plain": [
       "0.01642444"
      ]
     },
     "execution_count": 34,
     "metadata": {},
     "output_type": "execute_result"
    }
   ],
   "source": [
    "check_mae(test_imgs, test_predicted)"
   ]
  },
  {
   "cell_type": "code",
   "execution_count": null,
   "metadata": {},
   "outputs": [],
   "source": []
  }
 ],
 "metadata": {
  "kernelspec": {
   "display_name": "Python 3",
   "language": "python",
   "name": "python3"
  },
  "language_info": {
   "codemirror_mode": {
    "name": "ipython",
    "version": 3
   },
   "file_extension": ".py",
   "mimetype": "text/x-python",
   "name": "python",
   "nbconvert_exporter": "python",
   "pygments_lexer": "ipython3",
   "version": "3.6.5"
  }
 },
 "nbformat": 4,
 "nbformat_minor": 2
}
