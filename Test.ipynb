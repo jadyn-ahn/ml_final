{
 "cells": [
  {
   "cell_type": "code",
   "execution_count": 1,
   "metadata": {},
   "outputs": [],
   "source": [
    "from loader import Loader"
   ]
  },
  {
   "cell_type": "code",
   "execution_count": 2,
   "metadata": {},
   "outputs": [],
   "source": [
    "tds = Loader.load_imgs(\"train\")"
   ]
  },
  {
   "cell_type": "code",
   "execution_count": 3,
   "metadata": {},
   "outputs": [
    {
     "data": {
      "text/plain": [
       "(200000, 64, 64, 3)"
      ]
     },
     "execution_count": 3,
     "metadata": {},
     "output_type": "execute_result"
    }
   ],
   "source": [
    "tds.shape"
   ]
  },
  {
   "cell_type": "code",
   "execution_count": 4,
   "metadata": {},
   "outputs": [],
   "source": [
    "vds = Loader.load_imgs(\"val\")"
   ]
  },
  {
   "cell_type": "code",
   "execution_count": 5,
   "metadata": {},
   "outputs": [
    {
     "data": {
      "text/plain": [
       "(10000, 64, 64, 3)"
      ]
     },
     "execution_count": 5,
     "metadata": {},
     "output_type": "execute_result"
    }
   ],
   "source": [
    "vds.shape"
   ]
  },
  {
   "cell_type": "code",
   "execution_count": 6,
   "metadata": {},
   "outputs": [],
   "source": [
    "from factory import ModelFactory"
   ]
  },
  {
   "cell_type": "code",
   "execution_count": 11,
   "metadata": {},
   "outputs": [],
   "source": [
    "enc_dec = ModelFactory.get_enc_dec()"
   ]
  },
  {
   "cell_type": "code",
   "execution_count": 12,
   "metadata": {},
   "outputs": [],
   "source": [
    "from helper import Helper"
   ]
  },
  {
   "cell_type": "code",
   "execution_count": null,
   "metadata": {},
   "outputs": [
    {
     "name": "stdout",
     "output_type": "stream",
     "text": [
      "Train on 200000 samples, validate on 10000 samples\n",
      "Epoch 1/100\n",
      "199872/200000 [============================>.] - ETA: 0s - loss: 1.9375\n",
      "Epoch 00001: val_loss improved from inf to 1.50011, saving model to Model/tmp_enc_dec.h5\n",
      "200000/200000 [==============================] - 95s 475us/sample - loss: 1.9372 - val_loss: 1.5001\n",
      "Epoch 2/100\n",
      "199872/200000 [============================>.] - ETA: 0s - loss: 1.4413\n",
      "Epoch 00002: val_loss improved from 1.50011 to 1.37751, saving model to Model/tmp_enc_dec.h5\n",
      "200000/200000 [==============================] - 95s 473us/sample - loss: 1.4413 - val_loss: 1.3775\n",
      "Epoch 3/100\n",
      "199872/200000 [============================>.] - ETA: 0s - loss: 1.3639\n",
      "Epoch 00003: val_loss improved from 1.37751 to 1.33505, saving model to Model/tmp_enc_dec.h5\n",
      "200000/200000 [==============================] - 97s 485us/sample - loss: 1.3639 - val_loss: 1.3351\n",
      "Epoch 4/100\n",
      "199872/200000 [============================>.] - ETA: 0s - loss: 1.3255\n",
      "Epoch 00004: val_loss improved from 1.33505 to 1.30325, saving model to Model/tmp_enc_dec.h5\n",
      "200000/200000 [==============================] - 95s 474us/sample - loss: 1.3255 - val_loss: 1.3032\n",
      "Epoch 5/100\n",
      "199872/200000 [============================>.] - ETA: 0s - loss: 1.3061\n",
      "Epoch 00005: val_loss improved from 1.30325 to 1.28945, saving model to Model/tmp_enc_dec.h5\n",
      "200000/200000 [==============================] - 94s 469us/sample - loss: 1.3061 - val_loss: 1.2894\n",
      "Epoch 6/100\n",
      "199872/200000 [============================>.] - ETA: 0s - loss: 1.2937\n",
      "Epoch 00006: val_loss improved from 1.28945 to 1.27902, saving model to Model/tmp_enc_dec.h5\n",
      "200000/200000 [==============================] - 94s 470us/sample - loss: 1.2936 - val_loss: 1.2790\n",
      "Epoch 7/100\n",
      "199872/200000 [============================>.] - ETA: 0s - loss: 1.2838\n",
      "Epoch 00007: val_loss improved from 1.27902 to 1.27022, saving model to Model/tmp_enc_dec.h5\n",
      "200000/200000 [==============================] - 94s 471us/sample - loss: 1.2838 - val_loss: 1.2702\n",
      "Epoch 8/100\n",
      "199872/200000 [============================>.] - ETA: 0s - loss: 1.2763\n",
      "Epoch 00008: val_loss improved from 1.27022 to 1.26418, saving model to Model/tmp_enc_dec.h5\n",
      "200000/200000 [==============================] - 96s 482us/sample - loss: 1.2763 - val_loss: 1.2642\n",
      "Epoch 9/100\n",
      "101696/200000 [==============>...............] - ETA: 45s - loss: 1.2707"
     ]
    }
   ],
   "source": [
    "Helper.train_enc_dec(enc_dec, (tds, tds), (vds, vds),\n",
    "                     64, 100, 0.001, 0.0)"
   ]
  },
  {
   "cell_type": "code",
   "execution_count": 24,
   "metadata": {},
   "outputs": [],
   "source": [
    "from data_utils import get_val_batch, get_test_batch\n",
    "import numpy as np"
   ]
  },
  {
   "cell_type": "code",
   "execution_count": 25,
   "metadata": {},
   "outputs": [],
   "source": [
    "test_batch = get_test_batch(0, 1)\n",
    "test_imgs = np.asarray([test_batch[0, 0], test_batch[0, 1], test_batch[0, 6]])"
   ]
  },
  {
   "cell_type": "code",
   "execution_count": 41,
   "metadata": {},
   "outputs": [],
   "source": [
    "test_predicted = enc_dec.predict(test_imgs)"
   ]
  },
  {
   "cell_type": "code",
   "execution_count": 42,
   "metadata": {},
   "outputs": [],
   "source": [
    "train_imgs = np.asarray([tds[0], tds[10], tds[20]])"
   ]
  },
  {
   "cell_type": "code",
   "execution_count": 43,
   "metadata": {},
   "outputs": [],
   "source": [
    "predicted = enc_dec.predict(train_imgs)"
   ]
  },
  {
   "cell_type": "code",
   "execution_count": 44,
   "metadata": {},
   "outputs": [],
   "source": [
    "import matplotlib.pyplot as plt\n",
    "%matplotlib inline\n",
    "\n",
    "def show_three(imgs, predicted):\n",
    "    for i in range(3):\n",
    "        plt.subplot(2, 3, i+1)\n",
    "        plt.imshow(imgs[i])\n",
    "        plt.subplot(2, 3, i+4)\n",
    "        plt.imshow(predicted[i])"
   ]
  },
  {
   "cell_type": "code",
   "execution_count": 45,
   "metadata": {},
   "outputs": [
    {
     "data": {
      "image/png": "[encoded data removed]",
      "text/plain": [
       "<Figure size 432x288 with 6 Axes>"
      ]
     },
     "metadata": {},
     "output_type": "display_data"
    }
   ],
   "source": [
    "show_three(train_imgs, predicted)"
   ]
  },
  {
   "cell_type": "code",
   "execution_count": 46,
   "metadata": {},
   "outputs": [
    {
     "data": {
      "image/png": "[encoded data removed]",
      "text/plain": [
       "<Figure size 432x288 with 6 Axes>"
      ]
     },
     "metadata": {},
     "output_type": "display_data"
    }
   ],
   "source": [
    "show_three(test_imgs, test_predicted)"
   ]
  },
  {
   "cell_type": "code",
   "execution_count": 47,
   "metadata": {},
   "outputs": [],
   "source": [
    "from sklearn.metrics import mean_absolute_error\n",
    "\n",
    "def check_mae(imgs, predicteds):\n",
    "    maes = np.zeros(imgs.shape[0] * imgs.shape[3], dtype=np.float32)\n",
    "    for i in range(imgs.shape[0]):\n",
    "        for j in range(imgs.shape[3]):\n",
    "            maes[i * 3 + j] = mean_absolute_error(imgs[i, :, :, j], predicteds[i, :, :, j])\n",
    "    return np.average(maes[np.nonzero(maes)])"
   ]
  },
  {
   "cell_type": "code",
   "execution_count": 48,
   "metadata": {},
   "outputs": [
    {
     "data": {
      "text/plain": [
       "0.008200879"
      ]
     },
     "execution_count": 48,
     "metadata": {},
     "output_type": "execute_result"
    }
   ],
   "source": [
    "check_mae(train_imgs, predicted)"
   ]
  },
  {
   "cell_type": "code",
   "execution_count": 49,
   "metadata": {},
   "outputs": [
    {
     "data": {
      "text/plain": [
       "0.0073064514"
      ]
     },
     "execution_count": 49,
     "metadata": {},
     "output_type": "execute_result"
    }
   ],
   "source": [
    "check_mae(test_imgs, test_predicted)"
   ]
  },
  {
   "cell_type": "code",
   "execution_count": 50,
   "metadata": {},
   "outputs": [
    {
     "name": "stdout",
     "output_type": "stream",
     "text": [
      "SAVE DONE! ENC_DEC 06161904\n"
     ]
    }
   ],
   "source": [
    "Helper.save_enc_dec(enc_dec)"
   ]
  },
  {
   "cell_type": "code",
   "execution_count": 51,
   "metadata": {},
   "outputs": [],
   "source": [
    "from convert import *"
   ]
  },
  {
   "cell_type": "code",
   "execution_count": 52,
   "metadata": {},
   "outputs": [],
   "source": [
    "enc = Helper.load_enc(\"06161904\")"
   ]
  },
  {
   "cell_type": "code",
   "execution_count": 53,
   "metadata": {},
   "outputs": [],
   "source": [
    "dec = Helper.load_dec(\"06161904\")"
   ]
  },
  {
   "cell_type": "code",
   "execution_count": 54,
   "metadata": {},
   "outputs": [],
   "source": [
    "twostep_predicted = dec.predict(enc.predict(test_imgs))"
   ]
  },
  {
   "cell_type": "code",
   "execution_count": 57,
   "metadata": {},
   "outputs": [
    {
     "data": {
      "image/png": "[encoded data removed]",
      "text/plain": [
       "<Figure size 432x288 with 6 Axes>"
      ]
     },
     "metadata": {},
     "output_type": "display_data"
    }
   ],
   "source": [
    "show_three(test_imgs, twostep_predicted)"
   ]
  },
  {
   "cell_type": "code",
   "execution_count": 58,
   "metadata": {},
   "outputs": [
    {
     "ename": "IndexError",
     "evalue": "index 0 is out of bounds for axis 0 with size 0",
     "output_type": "error",
     "traceback": [
      "\u001b[0;31m---------------------------------------------------------------------------\u001b[0m",
      "\u001b[0;31mIndexError\u001b[0m                                Traceback (most recent call last)",
      "\u001b[0;32m<ipython-input-58-4e79b7ae2dac>\u001b[0m in \u001b[0;36m<module>\u001b[0;34m()\u001b[0m\n\u001b[0;32m----> 1\u001b[0;31m \u001b[0mimg2vec\u001b[0m\u001b[0;34m(\u001b[0m\u001b[0menc\u001b[0m\u001b[0;34m)\u001b[0m\u001b[0;34m\u001b[0m\u001b[0m\n\u001b[0m",
      "\u001b[0;32m~/ml_project/ml_final/convert.py\u001b[0m in \u001b[0;36mimg2vec\u001b[0;34m(model)\u001b[0m\n\u001b[1;32m      8\u001b[0m     \u001b[0mtrain_in\u001b[0m\u001b[0;34m,\u001b[0m \u001b[0mtrain_out\u001b[0m \u001b[0;34m=\u001b[0m \u001b[0mget_train_batch\u001b[0m\u001b[0;34m(\u001b[0m\u001b[0;36m0\u001b[0m\u001b[0;34m,\u001b[0m \u001b[0;36m10000\u001b[0m\u001b[0;34m)\u001b[0m\u001b[0;34m\u001b[0m\u001b[0m\n\u001b[1;32m      9\u001b[0m     \u001b[0mtrain_paths\u001b[0m \u001b[0;34m=\u001b[0m \u001b[0mDataPath\u001b[0m\u001b[0;34m.\u001b[0m\u001b[0mvec_paths\u001b[0m\u001b[0;34m(\u001b[0m\u001b[0;34m\"train\"\u001b[0m\u001b[0;34m)\u001b[0m\u001b[0;34m\u001b[0m\u001b[0m\n\u001b[0;32m---> 10\u001b[0;31m     \u001b[0mconvert_and_save\u001b[0m\u001b[0;34m(\u001b[0m\u001b[0mmodel\u001b[0m\u001b[0;34m,\u001b[0m \u001b[0mtrain_in\u001b[0m\u001b[0;34m,\u001b[0m \u001b[0mtrain_out\u001b[0m\u001b[0;34m,\u001b[0m \u001b[0mtrain_paths\u001b[0m\u001b[0;34m)\u001b[0m\u001b[0;34m\u001b[0m\u001b[0m\n\u001b[0m\u001b[1;32m     11\u001b[0m     \u001b[0mval_in\u001b[0m\u001b[0;34m,\u001b[0m \u001b[0mval_out\u001b[0m \u001b[0;34m=\u001b[0m \u001b[0mget_val_batch\u001b[0m\u001b[0;34m(\u001b[0m\u001b[0;36m0\u001b[0m\u001b[0;34m,\u001b[0m \u001b[0;36m500\u001b[0m\u001b[0;34m)\u001b[0m\u001b[0;34m\u001b[0m\u001b[0m\n\u001b[1;32m     12\u001b[0m     \u001b[0mval_paths\u001b[0m \u001b[0;34m=\u001b[0m \u001b[0mDataPath\u001b[0m\u001b[0;34m.\u001b[0m\u001b[0mvec_paths\u001b[0m\u001b[0;34m(\u001b[0m\u001b[0;34m\"val\"\u001b[0m\u001b[0;34m)\u001b[0m\u001b[0;34m\u001b[0m\u001b[0m\n",
      "\u001b[0;32m~/ml_project/ml_final/convert.py\u001b[0m in \u001b[0;36mconvert_and_save\u001b[0;34m(model, in_img_seqs, out_img_seqs, vec_paths)\u001b[0m\n\u001b[1;32m     16\u001b[0m \u001b[0;32mdef\u001b[0m \u001b[0mconvert_and_save\u001b[0m\u001b[0;34m(\u001b[0m\u001b[0mmodel\u001b[0m\u001b[0;34m,\u001b[0m \u001b[0min_img_seqs\u001b[0m\u001b[0;34m,\u001b[0m \u001b[0mout_img_seqs\u001b[0m\u001b[0;34m,\u001b[0m \u001b[0mvec_paths\u001b[0m\u001b[0;34m)\u001b[0m\u001b[0;34m:\u001b[0m\u001b[0;34m\u001b[0m\u001b[0m\n\u001b[1;32m     17\u001b[0m     \u001b[0;32mfor\u001b[0m \u001b[0mi\u001b[0m\u001b[0;34m,\u001b[0m \u001b[0mpath\u001b[0m \u001b[0;32min\u001b[0m \u001b[0menumerate\u001b[0m\u001b[0;34m(\u001b[0m\u001b[0mvec_paths\u001b[0m\u001b[0;34m)\u001b[0m\u001b[0;34m:\u001b[0m\u001b[0;34m\u001b[0m\u001b[0m\n\u001b[0;32m---> 18\u001b[0;31m         \u001b[0min_seq\u001b[0m \u001b[0;34m=\u001b[0m \u001b[0min_img_seqs\u001b[0m\u001b[0;34m[\u001b[0m\u001b[0mi\u001b[0m\u001b[0;34m]\u001b[0m\u001b[0;34m\u001b[0m\u001b[0m\n\u001b[0m\u001b[1;32m     19\u001b[0m         \u001b[0mout_seq\u001b[0m \u001b[0;34m=\u001b[0m \u001b[0mout_img_seqs\u001b[0m\u001b[0;34m[\u001b[0m\u001b[0mi\u001b[0m\u001b[0;34m]\u001b[0m\u001b[0;34m\u001b[0m\u001b[0m\n\u001b[1;32m     20\u001b[0m         \u001b[0mstacked\u001b[0m \u001b[0;34m=\u001b[0m \u001b[0mnp\u001b[0m\u001b[0;34m.\u001b[0m\u001b[0mstack\u001b[0m\u001b[0;34m(\u001b[0m\u001b[0;34m(\u001b[0m\u001b[0min_seq\u001b[0m\u001b[0;34m,\u001b[0m \u001b[0mout_seq\u001b[0m\u001b[0;34m)\u001b[0m\u001b[0;34m)\u001b[0m\u001b[0;34m.\u001b[0m\u001b[0mreshape\u001b[0m\u001b[0;34m(\u001b[0m\u001b[0;34m(\u001b[0m\u001b[0;36m20\u001b[0m\u001b[0;34m,\u001b[0m \u001b[0;36m64\u001b[0m\u001b[0;34m,\u001b[0m \u001b[0;36m64\u001b[0m\u001b[0;34m,\u001b[0m \u001b[0;36m3\u001b[0m\u001b[0;34m)\u001b[0m\u001b[0;34m)\u001b[0m\u001b[0;34m\u001b[0m\u001b[0m\n",
      "\u001b[0;31mIndexError\u001b[0m: index 0 is out of bounds for axis 0 with size 0"
     ]
    }
   ],
   "source": [
    "img2vec(enc)"
   ]
  },
  {
   "cell_type": "code",
   "execution_count": 1,
   "metadata": {},
   "outputs": [],
   "source": [
    "from datapath import DataPath"
   ]
  },
  {
   "cell_type": "code",
   "execution_count": 3,
   "metadata": {},
   "outputs": [
    {
     "data": {
      "text/plain": [
       "1000"
      ]
     },
     "execution_count": 3,
     "metadata": {},
     "output_type": "execute_result"
    }
   ],
   "source": [
    "len(DataPath.vec_paths(\"train\"))"
   ]
  },
  {
   "cell_type": "code",
   "execution_count": null,
   "metadata": {},
   "outputs": [],
   "source": []
  }
 ],
 "metadata": {
  "kernelspec": {
   "display_name": "Python 3",
   "language": "python",
   "name": "python3"
  },
  "language_info": {
   "codemirror_mode": {
    "name": "ipython",
    "version": 3
   },
   "file_extension": ".py",
   "mimetype": "text/x-python",
   "name": "python",
   "nbconvert_exporter": "python",
   "pygments_lexer": "ipython3",
   "version": "3.6.5"
  }
 },
 "nbformat": 4,
 "nbformat_minor": 2
}
